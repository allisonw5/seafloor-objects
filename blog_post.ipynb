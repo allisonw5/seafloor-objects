{
 "cells": [
  {
   "cell_type": "markdown",
   "id": "b3315590-8e3d-4cea-bd1a-fb5906590a6e",
   "metadata": {},
   "source": [
    "# Discarded Seafloor-objects: A Hidden World Beneath the Waves"
   ]
  },
  {
   "attachments": {},
   "cell_type": "markdown",
   "id": "6361c7ad-1305-42a1-95cc-4aa6c728e4ef",
   "metadata": {},
   "source": [
    "#### A Project by Allison Buchanan and Robyn Marowitz\n",
    "![Radioactive Dumping](https://p1.pxfuel.com/preview/723/129/130/environmental-destruction-waste-plastic-plastic-waste.jpg)\n",
    "image credit: pxfuel.com"
   ]
  },
  {
   "cell_type": "markdown",
   "id": "1cad7fa7-76f9-4282-bfce-2810b1aac93d",
   "metadata": {},
   "source": [
    "## Introduction to the Sea-Floor\r\n",
    "\r\n",
    "The ocean's depths are a realm of mystery and discovery, holding wonders that have intrigued scientists and explorers for centuries.  \r\n",
    "Sadly, the marine environment has been a dumping ground for discarded objects for decades. An astonishing variety of discarded objects rest quietly beneath the waves. These forgotten artifacts range from ancient shipwrecks to ship's waste; from gigantic swaths of fishing nets to modern-day debris. Some of these objects are pretty hazardous. One example is an estimated 55,000 containers of radioactive waste. These containers were dumped overboard at various Pacific Ocean sites from 1946-1970 (epa., 2022gov).  \r\n",
    "\r\n",
    "New technology allows us to investigate these objects and determine their outcomes. We can employ machine learning to determine what might happen to these objects- will they sink, be buried, or drift? And, if they drift, where will they go? These methods help us determine wthe here hotspots of discarded object as well aseallow he tolp us make more informed deci and advocatesionr our ecolo, environmental,gical and navigational ya fty. \r\n"
   ]
  },
  {
   "attachments": {},
   "cell_type": "markdown",
   "id": "d7249da7-0f2d-4914-9858-9d00202dc3c6",
   "metadata": {},
   "source": [
    "![Ocean Dumping](https://www.publicdomainpictures.net/pictures/100000/nahled/seabed-pollution.jpg)\n",
    "\n",
    "image credit: Public Domain Pictures, 2022"
   ]
  },
  {
   "cell_type": "markdown",
   "id": "bd6a5fde-17e8-4c1a-9b98-0f5551a515b9",
   "metadata": {},
   "source": [
    "## The Process\r\n",
    "\r\n",
    "Our chosen study site was an area off the coast of the Carolinas. We collect and combineded a wide range of data- shipwrecks, artificial reefs, currentswavees patterns, boating traffic, and more- to see if we could identify the fate of located object Once our data was conformed we created two different sets to perform machine learning- a form of artificial intelligence- on.s. We cho these NearestNeighbor Analysis from ScikitLearn for our machine learning model because it measures the spread or distribution of something over a geographical spaceWe made sure to choose an algorithm that can handle large sample sizes. \n",
    "\r\n",
    "\r\n"
   ]
  },
  {
   "cell_type": "code",
   "execution_count": 4,
   "id": "14a460c6-c7ef-44a4-bcee-2ba44ad81793",
   "metadata": {},
   "outputs": [],
   "source": [
    "# Folium Map here "
   ]
  },
  {
   "cell_type": "markdown",
   "id": "342cd2ec-8fe3-460a-91e6-7a9ff9ed63d9",
   "metadata": {},
   "source": [
    "## Analysis & Findings\n",
    "1-2 clear statements about the main finding/point - how did we find this out in laymans terms?\n"
   ]
  },
  {
   "cell_type": "code",
   "execution_count": null,
   "id": "e1f45e81-792d-4caf-a3cc-6471d0a0b6e3",
   "metadata": {},
   "outputs": [],
   "source": []
  },
  {
   "cell_type": "markdown",
   "id": "44145581-c7ac-475c-9829-e0a14c9a907e",
   "metadata": {},
   "source": [
    "## Final Thoughts\n",
    "\n",
    "Our data was.... \n",
    "\n",
    "The ocean is a massively important place for us as a planet. Due to its size and depth, tracking what happens on the seafloor has traditionally been very hard. We do not have technology like Lidar that will reach the ocean floor. Having cutting-edge methods such as the one we employed in this study will help us to develop environmental models that can aid in sustainable fishing practices, enhance our navigational safety, help us understand climate change impacts, and so much more. Just last year a report came out that stated that a glacier machine learning model- the Instructed Glacier Model- was developed to predict the evolution of glaciers and ice sheets up to 1000 times faster than any previous methods (Columbia Climate School, 2022). This extreme increase in speed is due to the fact that the heavy physics that is involved in modeling is handled by AI in this case and therefore can be processed much faster. This model will greatly enhance our ability to predict sea level rise and is only one little tip of the iceberg of showing how this type of technology may positively impact our society. "
   ]
  },
  {
   "cell_type": "markdown",
   "id": "46914e3c-889a-41f0-aa7f-60f6acac9767",
   "metadata": {},
   "source": [
    "## Want to learn more? \n",
    "\n",
    "Please visit our git hub repository for more technical information and to view our software: https://github.com/rmarowitz/seafloor-objects\n",
    "You may also contact us at allisonwiddecombe@gmail.com or Robyn.Marowitz@colorado.edu\n",
    "\n",
    "## Thank you for your interest! "
   ]
  },
  {
   "cell_type": "markdown",
   "id": "35e6d1d4-518e-4269-90ee-afb8ceeef262",
   "metadata": {},
   "source": [
    "## Citations"
   ]
  },
  {
   "cell_type": "markdown",
   "id": "d8487d98-0e1f-4abb-aadb-e60bed30beb6",
   "metadata": {},
   "source": [
    "epa.gov\n",
    "\n",
    "Columbia Climate School"
   ]
  }
 ],
 "metadata": {
  "kernelspec": {
   "display_name": "Python 3 (ipykernel)",
   "language": "python",
   "name": "python3"
  },
  "language_info": {
   "codemirror_mode": {
    "name": "ipython",
    "version": 3
   },
   "file_extension": ".py",
   "mimetype": "text/x-python",
   "name": "python",
   "nbconvert_exporter": "python",
   "pygments_lexer": "ipython3",
   "version": "3.11.4"
  }
 },
 "nbformat": 4,
 "nbformat_minor": 5
}
