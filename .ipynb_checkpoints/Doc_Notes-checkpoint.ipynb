{
 "cells": [
  {
   "cell_type": "markdown",
   "id": "da01bf35",
   "metadata": {},
   "source": [
    "# Notes from call with Chris\n",
    "\n",
    "## Objectives\n",
    "1. Document where the objects are on the seabed and what type (dimensions and density) (physics) using google search tracking down indexes from state governments and environemental groups \n",
    "    * artificial reefs\n",
    "    * epidimeological layers\n",
    "* synthesize this into a density mapping, provide hard bottom for habitat\n",
    "* humans are hardening the sea floor\n",
    "2. What is the fate of these objects?\n",
    "    * are they going to be buried?\n",
    "    * where will they be married?\n",
    "    * Are they going to shift in a storm?\n",
    "\n",
    "## Location of Study: East Coast\n",
    "* East coast has more research regarding hurricane sandy\n",
    "* Area from NY to Greys Reefe (offshore Georgia)\n",
    "\n",
    "## Data\n",
    "### DBSeaBed\n",
    "* http://instaar.colorado.edu/~jenkinsc/dbseabed/kml/\n",
    "* Gridded format - NetCDF\n",
<<<<<<< HEAD
    "### Wrecks and Obstructions\n",
    "* kml format\n",
    "### Night Lights\n",
=======
    "### Second Data Source\n",
>>>>>>> 27b7b9ec2d6b730a0982e9e156d1a65450b50155
    "* Chris will send us this in google drive folder. \n",
    "\n",
    "\n",
    "First technical issue:\n",
    "We have lots of information how are we going to draw it together?\n",
    "Bring tables and store them in raw state in excel. \n",
    "10 columns of the data that he wants to purify from those sources"
   ]
  },
  {
   "cell_type": "code",
   "execution_count": null,
   "id": "f04613eb",
   "metadata": {},
   "outputs": [],
   "source": []
  }
 ],
 "metadata": {
  "kernelspec": {
   "display_name": "Python 3 (ipykernel)",
   "language": "python",
   "name": "python3"
  },
  "language_info": {
   "codemirror_mode": {
    "name": "ipython",
    "version": 3
   },
   "file_extension": ".py",
   "mimetype": "text/x-python",
   "name": "python",
   "nbconvert_exporter": "python",
   "pygments_lexer": "ipython3",
   "version": "3.8.13"
<<<<<<< HEAD
  },
  "varInspector": {
   "cols": {
    "lenName": 16,
    "lenType": 16,
    "lenVar": 40
   },
   "kernels_config": {
    "python": {
     "delete_cmd_postfix": "",
     "delete_cmd_prefix": "del ",
     "library": "var_list.py",
     "varRefreshCmd": "print(var_dic_list())"
    },
    "r": {
     "delete_cmd_postfix": ") ",
     "delete_cmd_prefix": "rm(",
     "library": "var_list.r",
     "varRefreshCmd": "cat(var_dic_list()) "
    }
   },
   "types_to_exclude": [
    "module",
    "function",
    "builtin_function_or_method",
    "instance",
    "_Feature"
   ],
   "window_display": true
=======
>>>>>>> 27b7b9ec2d6b730a0982e9e156d1a65450b50155
  }
 },
 "nbformat": 4,
 "nbformat_minor": 5
}
